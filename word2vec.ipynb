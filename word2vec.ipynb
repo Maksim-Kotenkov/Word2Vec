{
 "cells": [
  {
   "cell_type": "code",
   "execution_count": 1,
   "id": "fe14c06f",
   "metadata": {
    "execution": {
     "iopub.execute_input": "2023-07-08T05:21:39.334336Z",
     "iopub.status.busy": "2023-07-08T05:21:39.333868Z",
     "iopub.status.idle": "2023-07-08T05:21:44.241847Z",
     "shell.execute_reply": "2023-07-08T05:21:44.240445Z"
    },
    "papermill": {
     "duration": 4.921606,
     "end_time": "2023-07-08T05:21:44.245464",
     "exception": false,
     "start_time": "2023-07-08T05:21:39.323858",
     "status": "completed"
    },
    "tags": []
   },
   "outputs": [
    {
     "name": "stdout",
     "output_type": "stream",
     "text": [
      "[nltk_data] Downloading package stopwords to /usr/share/nltk_data...\n",
      "[nltk_data]   Package stopwords is already up-to-date!\n"
     ]
    },
    {
     "data": {
      "text/plain": [
       "True"
      ]
     },
     "execution_count": 1,
     "metadata": {},
     "output_type": "execute_result"
    }
   ],
   "source": [
    "import pandas as pd\n",
    "pd.options.mode.chained_assignment = None\n",
    "import csv\n",
    "\n",
    "import numpy as np\n",
    "\n",
    "from tqdm import trange\n",
    "from statistics import mean \n",
    "\n",
    "import torch\n",
    "import torch.nn as nn\n",
    "from torch.utils.data import Dataset, DataLoader\n",
    "import torch.optim as optim\n",
    "import torch.nn.functional as F\n",
    "\n",
    "import nltk\n",
    "nltk.download(\"stopwords\")"
   ]
  },
  {
   "cell_type": "markdown",
   "id": "e70a7139",
   "metadata": {
    "papermill": {
     "duration": 0.007887,
     "end_time": "2023-07-08T05:21:44.261501",
     "exception": false,
     "start_time": "2023-07-08T05:21:44.253614",
     "status": "completed"
    },
    "tags": []
   },
   "source": [
    "# Предобработка документа"
   ]
  },
  {
   "cell_type": "code",
   "execution_count": 2,
   "id": "946de78c",
   "metadata": {
    "execution": {
     "iopub.execute_input": "2023-07-08T05:21:44.278517Z",
     "iopub.status.busy": "2023-07-08T05:21:44.277925Z",
     "iopub.status.idle": "2023-07-08T05:21:44.282231Z",
     "shell.execute_reply": "2023-07-08T05:21:44.281359Z"
    },
    "papermill": {
     "duration": 0.015012,
     "end_time": "2023-07-08T05:21:44.284207",
     "exception": false,
     "start_time": "2023-07-08T05:21:44.269195",
     "status": "completed"
    },
    "tags": []
   },
   "outputs": [],
   "source": [
    "# text = pd.read_csv('/kaggle/input/some-topics/inetensive_1.csv')\n",
    "# print(text.head())"
   ]
  },
  {
   "cell_type": "code",
   "execution_count": 3,
   "id": "e7b2afb0",
   "metadata": {
    "execution": {
     "iopub.execute_input": "2023-07-08T05:21:44.301086Z",
     "iopub.status.busy": "2023-07-08T05:21:44.300123Z",
     "iopub.status.idle": "2023-07-08T05:21:44.304910Z",
     "shell.execute_reply": "2023-07-08T05:21:44.304097Z"
    },
    "papermill": {
     "duration": 0.014983,
     "end_time": "2023-07-08T05:21:44.306846",
     "exception": false,
     "start_time": "2023-07-08T05:21:44.291863",
     "status": "completed"
    },
    "tags": []
   },
   "outputs": [],
   "source": [
    "# syntax = \".,?!;:-)(\\/#0123456789\"\n",
    "# stopwords = nltk.corpus.stopwords.words(\"english\")\n",
    "\n",
    "# print(text['text'].size)\n",
    "# text['edited'] = \"sometext\"\n",
    "# for i in trange(text['text'].size):\n",
    "#     text['edited'][i] = text['text'][i].lower()\n",
    "#     for j in syntax:\n",
    "#         text['edited'][i] = text['edited'][i].replace(j, \"\")\n",
    "#     text['edited'][i] = text['edited'][i].replace('  ', \" \")\n",
    "    \n",
    "#     text['edited'][i] = [word for word in text['edited'][i].split(' ') if word not in stopwords]"
   ]
  },
  {
   "cell_type": "code",
   "execution_count": 4,
   "id": "c3994a65",
   "metadata": {
    "execution": {
     "iopub.execute_input": "2023-07-08T05:21:44.323651Z",
     "iopub.status.busy": "2023-07-08T05:21:44.322899Z",
     "iopub.status.idle": "2023-07-08T05:21:44.326854Z",
     "shell.execute_reply": "2023-07-08T05:21:44.325957Z"
    },
    "papermill": {
     "duration": 0.014526,
     "end_time": "2023-07-08T05:21:44.328880",
     "exception": false,
     "start_time": "2023-07-08T05:21:44.314354",
     "status": "completed"
    },
    "tags": []
   },
   "outputs": [],
   "source": [
    "# text.to_csv(\"modified.csv\", index=False)"
   ]
  },
  {
   "cell_type": "markdown",
   "id": "94c53a48",
   "metadata": {
    "papermill": {
     "duration": 0.007773,
     "end_time": "2023-07-08T05:21:44.344182",
     "exception": false,
     "start_time": "2023-07-08T05:21:44.336409",
     "status": "completed"
    },
    "tags": []
   },
   "source": [
    "# Параметры"
   ]
  },
  {
   "cell_type": "code",
   "execution_count": 5,
   "id": "ab8c8df6",
   "metadata": {
    "execution": {
     "iopub.execute_input": "2023-07-08T05:21:44.361376Z",
     "iopub.status.busy": "2023-07-08T05:21:44.360544Z",
     "iopub.status.idle": "2023-07-08T05:21:44.448850Z",
     "shell.execute_reply": "2023-07-08T05:21:44.447922Z"
    },
    "papermill": {
     "duration": 0.099545,
     "end_time": "2023-07-08T05:21:44.451235",
     "exception": false,
     "start_time": "2023-07-08T05:21:44.351690",
     "status": "completed"
    },
    "tags": []
   },
   "outputs": [],
   "source": [
    "# ALL PARAMETERS\n",
    "number_of_takes = 100\n",
    "take_rows = 20\n",
    "CONTEXT_SIZE = 2\n",
    "EMBEDDING_DIM = 300\n",
    "BS = 2000\n",
    "epochs = 10\n",
    "device = 'cuda' if torch.cuda.is_available() else 'cpu'\n",
    "\n",
    "text = pd.read_csv('/kaggle/input/some-topics/modified.csv', nrows =1)\n",
    "columns = text.columns"
   ]
  },
  {
   "cell_type": "markdown",
   "id": "3f5b8c5c",
   "metadata": {
    "papermill": {
     "duration": 0.00743,
     "end_time": "2023-07-08T05:21:44.466653",
     "exception": false,
     "start_time": "2023-07-08T05:21:44.459223",
     "status": "completed"
    },
    "tags": []
   },
   "source": [
    "# Определяем размерность векторного пространства"
   ]
  },
  {
   "cell_type": "code",
   "execution_count": 6,
   "id": "73edf1f1",
   "metadata": {
    "execution": {
     "iopub.execute_input": "2023-07-08T05:21:44.483427Z",
     "iopub.status.busy": "2023-07-08T05:21:44.482542Z",
     "iopub.status.idle": "2023-07-08T05:21:45.622789Z",
     "shell.execute_reply": "2023-07-08T05:21:45.621361Z"
    },
    "papermill": {
     "duration": 1.150739,
     "end_time": "2023-07-08T05:21:45.624836",
     "exception": false,
     "start_time": "2023-07-08T05:21:44.474097",
     "status": "completed"
    },
    "tags": []
   },
   "outputs": [
    {
     "name": "stderr",
     "output_type": "stream",
     "text": [
      "100%|██████████| 100/100 [00:01<00:00, 88.67it/s]"
     ]
    },
    {
     "name": "stdout",
     "output_type": "stream",
     "text": [
      "Length of our vocabulary:  11273\n"
     ]
    },
    {
     "name": "stderr",
     "output_type": "stream",
     "text": [
      "\n"
     ]
    }
   ],
   "source": [
    "null_vector = {} # вектор с размерностью алфавита\n",
    "\n",
    "for fragment in trange(number_of_takes):\n",
    "    text = pd.read_csv('/kaggle/input/some-topics/modified.csv', skiprows = fragment * take_rows, nrows = take_rows, names=columns)\n",
    "    for i in range(take_rows):\n",
    "        text['edited'][i] = text['edited'][i].replace('\\'', '').replace('\\\"', '').replace(']', '').replace('[', '').split(', ')\n",
    "        for k in set(text['edited'][i]):\n",
    "            null_vector[k] = 0;\n",
    "\n",
    "print(\"Length of our vocabulary: \", len(null_vector))\n",
    "# print(null_vector)"
   ]
  },
  {
   "cell_type": "markdown",
   "id": "4a583ac5",
   "metadata": {
    "papermill": {
     "duration": 0.008465,
     "end_time": "2023-07-08T05:21:45.641976",
     "exception": false,
     "start_time": "2023-07-08T05:21:45.633511",
     "status": "completed"
    },
    "tags": []
   },
   "source": [
    "# Функция получение пар контекст/слово в one-hot-vector виде"
   ]
  },
  {
   "cell_type": "code",
   "execution_count": 7,
   "id": "2f37b919",
   "metadata": {
    "execution": {
     "iopub.execute_input": "2023-07-08T05:21:45.660820Z",
     "iopub.status.busy": "2023-07-08T05:21:45.659986Z",
     "iopub.status.idle": "2023-07-08T05:21:45.671472Z",
     "shell.execute_reply": "2023-07-08T05:21:45.670604Z"
    },
    "papermill": {
     "duration": 0.023039,
     "end_time": "2023-07-08T05:21:45.673513",
     "exception": false,
     "start_time": "2023-07-08T05:21:45.650474",
     "status": "completed"
    },
    "tags": []
   },
   "outputs": [],
   "source": [
    "def get_training_data(from_row, to_row):\n",
    "    text = pd.read_csv('/kaggle/input/some-topics/modified.csv', skiprows=from_row, nrows=take_rows, names=columns)\n",
    "\n",
    "    context = [[]]*take_rows\n",
    "    for i in range(text['text'].size):\n",
    "        text['edited'][i] = text['edited'][i].replace('\\'', '').replace('\\\"', '').replace(']', '').replace('[', '').split(', ')\n",
    "        for k in range(CONTEXT_SIZE, len(text['edited'][i]) - CONTEXT_SIZE):\n",
    "            tup = []\n",
    "            for c in range(1, CONTEXT_SIZE+1):\n",
    "                tup.append(text['edited'][i][k-c])\n",
    "                tup.append(text['edited'][i][k+c])\n",
    "\n",
    "            context[i].append([tup,text['edited'][i][k]])\n",
    "    \n",
    "    vec_context = []\n",
    "    for i in range(len(context)):\n",
    "        for j in range(len(context[i])):\n",
    "            creating = [[], []]\n",
    "            copy = null_vector.copy()\n",
    "            copy[context[i][j][1]] = 1\n",
    "            creating[1] = list(copy.values())\n",
    "\n",
    "            copy = null_vector.copy()\n",
    "            copy[context[i][j][0][0]] = 1\n",
    "            copy[context[i][j][0][1]] = 1\n",
    "            copy[context[i][j][0][2]] = 1\n",
    "            copy[context[i][j][0][3]] = 1\n",
    "            creating[0] = list(copy.values())\n",
    "\n",
    "            vec_context.append(creating)\n",
    "    \n",
    "    return vec_context"
   ]
  },
  {
   "cell_type": "markdown",
   "id": "18ff686f",
   "metadata": {
    "papermill": {
     "duration": 0.008655,
     "end_time": "2023-07-08T05:21:45.691257",
     "exception": false,
     "start_time": "2023-07-08T05:21:45.682602",
     "status": "completed"
    },
    "tags": []
   },
   "source": [
    "# Функция дообучения"
   ]
  },
  {
   "cell_type": "code",
   "execution_count": 8,
   "id": "c8e2a237",
   "metadata": {
    "execution": {
     "iopub.execute_input": "2023-07-08T05:21:45.710033Z",
     "iopub.status.busy": "2023-07-08T05:21:45.709226Z",
     "iopub.status.idle": "2023-07-08T05:21:45.716847Z",
     "shell.execute_reply": "2023-07-08T05:21:45.715998Z"
    },
    "papermill": {
     "duration": 0.019017,
     "end_time": "2023-07-08T05:21:45.718764",
     "exception": false,
     "start_time": "2023-07-08T05:21:45.699747",
     "status": "completed"
    },
    "tags": []
   },
   "outputs": [],
   "source": [
    "def continuous_training(model, optimizer, loss_function, vec_context, BS):\n",
    "    vec_context = np.array(vec_context)\n",
    "    total_loss = 0\n",
    "\n",
    "    num_batches = len(vec_context)//BS\n",
    "\n",
    "    for i in range(num_batches):\n",
    "        pairs = vec_context[i*BS:(i+1)*BS]\n",
    "        context_idxs = torch.tensor(pairs[:,0].astype(int), dtype=torch.float).to(device)\n",
    "\n",
    "        optimizer.zero_grad()\n",
    "        log_probs = model(context_idxs)\n",
    "\n",
    "        # print(log_probs.shape, torch.tensor(pairs[:,1].astype(int), dtype=torch.long).to(device).shape)\n",
    "\n",
    "        loss = loss_function(log_probs, torch.tensor(pairs[:,1].astype(int), dtype=torch.long).argmax(-1).to(device))\n",
    "\n",
    "        loss.backward()\n",
    "        optimizer.step()\n",
    "\n",
    "        total_loss += loss.item()\n",
    "    \n",
    "    return total_loss"
   ]
  },
  {
   "cell_type": "markdown",
   "id": "380f6755",
   "metadata": {
    "papermill": {
     "duration": 0.008249,
     "end_time": "2023-07-08T05:21:45.735433",
     "exception": false,
     "start_time": "2023-07-08T05:21:45.727184",
     "status": "completed"
    },
    "tags": []
   },
   "source": [
    "# Модель"
   ]
  },
  {
   "cell_type": "code",
   "execution_count": 9,
   "id": "61d58842",
   "metadata": {
    "execution": {
     "iopub.execute_input": "2023-07-08T05:21:45.754188Z",
     "iopub.status.busy": "2023-07-08T05:21:45.753410Z",
     "iopub.status.idle": "2023-07-08T05:21:48.728757Z",
     "shell.execute_reply": "2023-07-08T05:21:48.727760Z"
    },
    "papermill": {
     "duration": 2.987065,
     "end_time": "2023-07-08T05:21:48.731105",
     "exception": false,
     "start_time": "2023-07-08T05:21:45.744040",
     "status": "completed"
    },
    "tags": []
   },
   "outputs": [],
   "source": [
    "class CBOWModeler(nn.Module):\n",
    "    def __init__(self, vocab_size, embedding_dim):\n",
    "        super(CBOWModeler, self).__init__()\n",
    "        self.linear1 = nn.Linear(vocab_size, embedding_dim)\n",
    "        self.linear2 = nn.Linear(embedding_dim, vocab_size)\n",
    "        \n",
    "    \n",
    "    def forward(self, inputs):\n",
    "        emb = self.linear1(inputs)\n",
    "        out_s_layer = self.linear2(emb)\n",
    "        \n",
    "        # print(out_s_layer.shape)\n",
    "        log_probs = F.log_softmax(out_s_layer, dim=0)\n",
    "        return log_probs\n",
    "    \n",
    "    \n",
    "    def predict(self, input, null_vector):\n",
    "        context_vec = null_vector.copy()\n",
    "        for word in input:\n",
    "            context_vec[word] = 1;\n",
    "        context_vec = list(context_vec.values())\n",
    "        \n",
    "        context_tensor = torch.tensor(context_vec, dtype=torch.float).to(device)\n",
    "        res = self.forward(context_tensor)\n",
    "        print(res.shape)\n",
    "        res_arg = torch.argmax(res).item()\n",
    "        \n",
    "        return list(null_vector.keys())[res_arg]\n",
    "    \n",
    "    \n",
    "    def write_embedding_to_file(self,filename):\n",
    "        for i in self.embeddings.parameters():\n",
    "            weights = i.cpu().data.numpy()\n",
    "        np.save(filename,weights)\n",
    "        \n",
    "    \n",
    "    def write_linear_to_file(self,filename):\n",
    "        for i in self.linear2.parameters():\n",
    "            weights = i.cpu().data.numpy()\n",
    "        np.save(filename,weights)\n",
    "\n",
    "        \n",
    "model = CBOWModeler(len(null_vector), EMBEDDING_DIM)\n",
    "optimizer = optim.SGD(model.parameters(), lr=10**(-6))\n",
    "\n",
    "model = model.to(device)\n",
    "loss_function = nn.NLLLoss()"
   ]
  },
  {
   "cell_type": "markdown",
   "id": "4460f40d",
   "metadata": {
    "papermill": {
     "duration": 0.00843,
     "end_time": "2023-07-08T05:21:48.748603",
     "exception": false,
     "start_time": "2023-07-08T05:21:48.740173",
     "status": "completed"
    },
    "tags": []
   },
   "source": [
    "# Обучение на текстах по кускам"
   ]
  },
  {
   "cell_type": "code",
   "execution_count": 10,
   "id": "f9d90725",
   "metadata": {
    "execution": {
     "iopub.execute_input": "2023-07-08T05:21:48.767482Z",
     "iopub.status.busy": "2023-07-08T05:21:48.767131Z",
     "iopub.status.idle": "2023-07-08T14:32:02.777270Z",
     "shell.execute_reply": "2023-07-08T14:32:02.776360Z"
    },
    "papermill": {
     "duration": 33014.030206,
     "end_time": "2023-07-08T14:32:02.787726",
     "exception": false,
     "start_time": "2023-07-08T05:21:48.757520",
     "status": "completed"
    },
    "tags": []
   },
   "outputs": [
    {
     "name": "stderr",
     "output_type": "stream",
     "text": [
      " 10%|█         | 1/10 [54:53<8:14:02, 3293.63s/it]"
     ]
    },
    {
     "name": "stdout",
     "output_type": "stream",
     "text": [
      "30.40539789199829\n"
     ]
    },
    {
     "name": "stderr",
     "output_type": "stream",
     "text": [
      " 60%|██████    | 6/10 [5:31:09<3:41:05, 3316.39s/it]"
     ]
    },
    {
     "name": "stdout",
     "output_type": "stream",
     "text": [
      "30.405396461486816\n"
     ]
    },
    {
     "name": "stderr",
     "output_type": "stream",
     "text": [
      "100%|██████████| 10/10 [9:10:13<00:00, 3301.40s/it]\n"
     ]
    }
   ],
   "source": [
    "for ep in trange(epochs):\n",
    "    for i in range(number_of_takes):\n",
    "        vec_context = get_training_data(i*take_rows, (i+1)*take_rows)\n",
    "        total_loss = continuous_training(model, optimizer, loss_function, vec_context, BS)\n",
    "    if ep % 5 == 0:\n",
    "        print(total_loss)"
   ]
  },
  {
   "cell_type": "markdown",
   "id": "17d2c177",
   "metadata": {
    "papermill": {
     "duration": 0.009403,
     "end_time": "2023-07-08T14:32:02.806812",
     "exception": false,
     "start_time": "2023-07-08T14:32:02.797409",
     "status": "completed"
    },
    "tags": []
   },
   "source": [
    "# Сохраняем модель "
   ]
  },
  {
   "cell_type": "code",
   "execution_count": 11,
   "id": "6ca4adf3",
   "metadata": {
    "execution": {
     "iopub.execute_input": "2023-07-08T14:32:02.827537Z",
     "iopub.status.busy": "2023-07-08T14:32:02.827214Z",
     "iopub.status.idle": "2023-07-08T14:32:02.887756Z",
     "shell.execute_reply": "2023-07-08T14:32:02.886797Z"
    },
    "papermill": {
     "duration": 0.073767,
     "end_time": "2023-07-08T14:32:02.890424",
     "exception": false,
     "start_time": "2023-07-08T14:32:02.816657",
     "status": "completed"
    },
    "tags": []
   },
   "outputs": [],
   "source": [
    "torch.save(model.state_dict(), 'model')\n",
    "\n",
    "with open('alphabet.csv', 'w') as f:\n",
    "    w = csv.DictWriter(f, null_vector.keys())\n",
    "    w.writeheader()\n",
    "    w.writerow(null_vector)"
   ]
  },
  {
   "cell_type": "markdown",
   "id": "4fa006b8",
   "metadata": {
    "papermill": {
     "duration": 0.009606,
     "end_time": "2023-07-08T14:32:02.910102",
     "exception": false,
     "start_time": "2023-07-08T14:32:02.900496",
     "status": "completed"
    },
    "tags": []
   },
   "source": [
    "# Загружаем, если необходимо"
   ]
  },
  {
   "cell_type": "code",
   "execution_count": 12,
   "id": "f4ac4c7d",
   "metadata": {
    "execution": {
     "iopub.execute_input": "2023-07-08T14:32:02.931272Z",
     "iopub.status.busy": "2023-07-08T14:32:02.930978Z",
     "iopub.status.idle": "2023-07-08T14:32:02.935172Z",
     "shell.execute_reply": "2023-07-08T14:32:02.934240Z"
    },
    "papermill": {
     "duration": 0.017224,
     "end_time": "2023-07-08T14:32:02.937237",
     "exception": false,
     "start_time": "2023-07-08T14:32:02.920013",
     "status": "completed"
    },
    "tags": []
   },
   "outputs": [],
   "source": [
    "# null_vector = pd.read_csv('/kaggle/input/trashh/alphabet.csv').to_dict(orient='records')[0]\n",
    "# # null_vector\n",
    "\n",
    "# model = CBOWModeler(len(null_vector), EMBEDDING_DIM)\n",
    "# model.load_state_dict(torch.load('/kaggle/input/trashh/model'))\n",
    "# model = model.to(device)"
   ]
  },
  {
   "cell_type": "markdown",
   "id": "3417865c",
   "metadata": {
    "papermill": {
     "duration": 0.009489,
     "end_time": "2023-07-08T14:32:02.956423",
     "exception": false,
     "start_time": "2023-07-08T14:32:02.946934",
     "status": "completed"
    },
    "tags": []
   },
   "source": [
    "# Тестируем"
   ]
  },
  {
   "cell_type": "code",
   "execution_count": 13,
   "id": "023404d8",
   "metadata": {
    "execution": {
     "iopub.execute_input": "2023-07-08T14:32:02.976982Z",
     "iopub.status.busy": "2023-07-08T14:32:02.976714Z",
     "iopub.status.idle": "2023-07-08T14:32:02.998339Z",
     "shell.execute_reply": "2023-07-08T14:32:02.997356Z"
    },
    "papermill": {
     "duration": 0.034766,
     "end_time": "2023-07-08T14:32:03.000836",
     "exception": false,
     "start_time": "2023-07-08T14:32:02.966070",
     "status": "completed"
    },
    "tags": []
   },
   "outputs": [
    {
     "name": "stdout",
     "output_type": "stream",
     "text": [
      "torch.Size([11273])\n",
      "cubans\n"
     ]
    }
   ],
   "source": [
    "# test 1\n",
    "# inputs = ['black','bears','meat', 'strong']\n",
    "# res: southeastern\n",
    "\n",
    "# test 2\n",
    "# inputs = ['company','need','successful', 'product']\n",
    "# res: estimates\n",
    "\n",
    "# test 3 on prev version\n",
    "# ...black huge _ eat black...\n",
    "# inputs = ['black','huge','eat', 'black']\n",
    "# res: jobless\n",
    "\n",
    "# test 3\n",
    "inputs = ['news','paper','good', 'news']\n",
    "# res: remember\n",
    "\n",
    "# test 4\n",
    "# inputs = ['young','boy','good', 'job']\n",
    "# res: invoices\n",
    "\n",
    "# test 5\n",
    "# inputs = ['senior','developer','good', 'job']\n",
    "# res: creates\n",
    "\n",
    "# test 6\n",
    "# inputs = ['senior','developer','work', 'program']\n",
    "# res: creates\n",
    "\n",
    "\n",
    "pred = model.predict(inputs, null_vector)\n",
    "print(pred)"
   ]
  },
  {
   "cell_type": "markdown",
   "id": "959e7db2",
   "metadata": {
    "papermill": {
     "duration": 0.009606,
     "end_time": "2023-07-08T14:32:03.020248",
     "exception": false,
     "start_time": "2023-07-08T14:32:03.010642",
     "status": "completed"
    },
    "tags": []
   },
   "source": [
    "# Параметры обученной модели"
   ]
  },
  {
   "cell_type": "code",
   "execution_count": 14,
   "id": "d2c246e8",
   "metadata": {
    "execution": {
     "iopub.execute_input": "2023-07-08T14:32:03.041086Z",
     "iopub.status.busy": "2023-07-08T14:32:03.040818Z",
     "iopub.status.idle": "2023-07-08T14:32:03.050561Z",
     "shell.execute_reply": "2023-07-08T14:32:03.049616Z"
    },
    "papermill": {
     "duration": 0.022481,
     "end_time": "2023-07-08T14:32:03.052591",
     "exception": false,
     "start_time": "2023-07-08T14:32:03.030110",
     "status": "completed"
    },
    "tags": []
   },
   "outputs": [
    {
     "data": {
      "text/plain": [
       "array([[ 3.8425631e-03,  6.9359154e-03,  3.4693410e-03, ...,\n",
       "        -2.3621013e-03,  7.7132345e-03, -5.5134448e-04],\n",
       "       [ 8.8193957e-03,  6.9997855e-03, -6.5015204e-04, ...,\n",
       "         9.3350057e-03,  2.3919400e-03, -3.0059588e-05],\n",
       "       [ 8.6264089e-03, -6.5895957e-03, -5.2267215e-03, ...,\n",
       "        -6.7805112e-03, -1.2019993e-03,  8.0948444e-03],\n",
       "       ...,\n",
       "       [ 3.8016418e-03, -3.3048585e-03,  6.6300444e-03, ...,\n",
       "         2.3945549e-03,  9.3445191e-03, -8.3655566e-03],\n",
       "       [-8.7305508e-04,  3.0967942e-03, -1.1783080e-03, ...,\n",
       "         8.9706453e-03, -8.3292508e-03,  2.8613212e-03],\n",
       "       [-9.0278490e-03, -6.7823101e-03, -5.4993052e-03, ...,\n",
       "         5.0827982e-03, -4.2067477e-04,  5.9976135e-03]], dtype=float32)"
      ]
     },
     "execution_count": 14,
     "metadata": {},
     "output_type": "execute_result"
    }
   ],
   "source": [
    "emb_matrix = [i for i in model.linear1.parameters()][0]\n",
    "\n",
    "emb_matrix = emb_matrix.cpu().detach().numpy()\n",
    "emb_matrix"
   ]
  },
  {
   "cell_type": "markdown",
   "id": "c7357eea",
   "metadata": {
    "papermill": {
     "duration": 0.009824,
     "end_time": "2023-07-08T14:32:03.072440",
     "exception": false,
     "start_time": "2023-07-08T14:32:03.062616",
     "status": "completed"
    },
    "tags": []
   },
   "source": [
    "# Высчитываем векторные представления текстов и сохраняем"
   ]
  },
  {
   "cell_type": "code",
   "execution_count": 15,
   "id": "fd20766d",
   "metadata": {
    "execution": {
     "iopub.execute_input": "2023-07-08T14:32:03.093693Z",
     "iopub.status.busy": "2023-07-08T14:32:03.093416Z",
     "iopub.status.idle": "2023-07-08T14:32:03.098752Z",
     "shell.execute_reply": "2023-07-08T14:32:03.097846Z"
    },
    "papermill": {
     "duration": 0.018168,
     "end_time": "2023-07-08T14:32:03.100678",
     "exception": false,
     "start_time": "2023-07-08T14:32:03.082510",
     "status": "completed"
    },
    "tags": []
   },
   "outputs": [],
   "source": [
    "def word2vec(inp, null_vector, emb_matrix):\n",
    "    word = null_vector.copy()\n",
    "    if (inp in word.keys()): word[inp] = 1\n",
    "    word = np.array(list(word.values()))\n",
    "\n",
    "    word2vec = np.matmul(emb_matrix, word)\n",
    "    return word2vec"
   ]
  },
  {
   "cell_type": "code",
   "execution_count": 16,
   "id": "a8ad26dc",
   "metadata": {
    "execution": {
     "iopub.execute_input": "2023-07-08T14:32:03.122282Z",
     "iopub.status.busy": "2023-07-08T14:32:03.121584Z",
     "iopub.status.idle": "2023-07-08T14:39:54.988544Z",
     "shell.execute_reply": "2023-07-08T14:39:54.985283Z"
    },
    "papermill": {
     "duration": 471.882785,
     "end_time": "2023-07-08T14:39:54.993465",
     "exception": false,
     "start_time": "2023-07-08T14:32:03.110680",
     "status": "completed"
    },
    "tags": []
   },
   "outputs": [
    {
     "name": "stderr",
     "output_type": "stream",
     "text": [
      "100%|██████████| 2000/2000 [07:51<00:00,  4.24it/s]\n"
     ]
    }
   ],
   "source": [
    "text = pd.read_csv('/kaggle/input/some-topics/modified.csv', nrows=number_of_takes*take_rows)\n",
    "with open(f'vectors.csv', 'w', newline='') as f_object:\n",
    "    writer_object = csv.writer(f_object)\n",
    "    \n",
    "    for row in trange(number_of_takes*take_rows):\n",
    "        count_words = 0\n",
    "        text2vec = np.array([float(0)]*EMBEDDING_DIM)\n",
    "        text['edited'][row] = text['edited'][row].replace('\\'', '').replace('\\\"', '').replace(']', '').replace('[', '').split(', ')\n",
    "        for word in text['edited'][row]:\n",
    "            count_words += 1\n",
    "            text2vec = np.add(text2vec, word2vec(word, null_vector, emb_matrix))\n",
    "        \n",
    "        text2vec = [i/count_words for i in text2vec]\n",
    "        \n",
    "        list_data = list(text2vec)\n",
    "        list_data.insert(0, row)\n",
    "        writer_object.writerow(list_data)\n",
    "    \n",
    "    f_object.close()"
   ]
  },
  {
   "cell_type": "markdown",
   "id": "b7aa5ffa",
   "metadata": {
    "papermill": {
     "duration": 0.150968,
     "end_time": "2023-07-08T14:39:55.360717",
     "exception": false,
     "start_time": "2023-07-08T14:39:55.209749",
     "status": "completed"
    },
    "tags": []
   },
   "source": [
    "# Тестируем"
   ]
  },
  {
   "cell_type": "code",
   "execution_count": 17,
   "id": "7b8af32c",
   "metadata": {
    "execution": {
     "iopub.execute_input": "2023-07-08T14:39:55.664842Z",
     "iopub.status.busy": "2023-07-08T14:39:55.664520Z",
     "iopub.status.idle": "2023-07-08T14:39:55.884811Z",
     "shell.execute_reply": "2023-07-08T14:39:55.883957Z"
    },
    "papermill": {
     "duration": 0.375429,
     "end_time": "2023-07-08T14:39:55.886974",
     "exception": false,
     "start_time": "2023-07-08T14:39:55.511545",
     "status": "completed"
    },
    "tags": []
   },
   "outputs": [
    {
     "data": {
      "text/html": [
       "<div>\n",
       "<style scoped>\n",
       "    .dataframe tbody tr th:only-of-type {\n",
       "        vertical-align: middle;\n",
       "    }\n",
       "\n",
       "    .dataframe tbody tr th {\n",
       "        vertical-align: top;\n",
       "    }\n",
       "\n",
       "    .dataframe thead th {\n",
       "        text-align: right;\n",
       "    }\n",
       "</style>\n",
       "<table border=\"1\" class=\"dataframe\">\n",
       "  <thead>\n",
       "    <tr style=\"text-align: right;\">\n",
       "      <th></th>\n",
       "      <th>0</th>\n",
       "      <th>1</th>\n",
       "      <th>2</th>\n",
       "      <th>3</th>\n",
       "      <th>4</th>\n",
       "      <th>5</th>\n",
       "      <th>6</th>\n",
       "      <th>7</th>\n",
       "      <th>8</th>\n",
       "      <th>9</th>\n",
       "      <th>...</th>\n",
       "      <th>290</th>\n",
       "      <th>291</th>\n",
       "      <th>292</th>\n",
       "      <th>293</th>\n",
       "      <th>294</th>\n",
       "      <th>295</th>\n",
       "      <th>296</th>\n",
       "      <th>297</th>\n",
       "      <th>298</th>\n",
       "      <th>299</th>\n",
       "    </tr>\n",
       "  </thead>\n",
       "  <tbody>\n",
       "    <tr>\n",
       "      <th>0</th>\n",
       "      <td>0.000195</td>\n",
       "      <td>-0.001000</td>\n",
       "      <td>-0.003117</td>\n",
       "      <td>0.003060</td>\n",
       "      <td>0.000833</td>\n",
       "      <td>-0.003156</td>\n",
       "      <td>-0.001058</td>\n",
       "      <td>-0.000885</td>\n",
       "      <td>-0.000161</td>\n",
       "      <td>-0.000170</td>\n",
       "      <td>...</td>\n",
       "      <td>-0.003946</td>\n",
       "      <td>-0.001028</td>\n",
       "      <td>-0.000686</td>\n",
       "      <td>-0.001089</td>\n",
       "      <td>0.000268</td>\n",
       "      <td>-0.001069</td>\n",
       "      <td>0.000915</td>\n",
       "      <td>0.000490</td>\n",
       "      <td>0.001737</td>\n",
       "      <td>-0.000208</td>\n",
       "    </tr>\n",
       "    <tr>\n",
       "      <th>1</th>\n",
       "      <td>0.001425</td>\n",
       "      <td>-0.001791</td>\n",
       "      <td>-0.002250</td>\n",
       "      <td>0.000689</td>\n",
       "      <td>-0.000236</td>\n",
       "      <td>-0.000922</td>\n",
       "      <td>0.000034</td>\n",
       "      <td>0.000467</td>\n",
       "      <td>-0.001196</td>\n",
       "      <td>-0.001662</td>\n",
       "      <td>...</td>\n",
       "      <td>-0.001138</td>\n",
       "      <td>0.000296</td>\n",
       "      <td>-0.001003</td>\n",
       "      <td>0.001583</td>\n",
       "      <td>-0.001640</td>\n",
       "      <td>-0.000828</td>\n",
       "      <td>0.001336</td>\n",
       "      <td>0.000558</td>\n",
       "      <td>0.000995</td>\n",
       "      <td>-0.000333</td>\n",
       "    </tr>\n",
       "    <tr>\n",
       "      <th>2</th>\n",
       "      <td>0.000416</td>\n",
       "      <td>-0.001263</td>\n",
       "      <td>0.000026</td>\n",
       "      <td>-0.000234</td>\n",
       "      <td>0.002455</td>\n",
       "      <td>-0.000084</td>\n",
       "      <td>-0.000548</td>\n",
       "      <td>0.000672</td>\n",
       "      <td>0.000584</td>\n",
       "      <td>-0.000515</td>\n",
       "      <td>...</td>\n",
       "      <td>-0.000313</td>\n",
       "      <td>-0.000419</td>\n",
       "      <td>0.001627</td>\n",
       "      <td>0.000263</td>\n",
       "      <td>0.001000</td>\n",
       "      <td>0.001881</td>\n",
       "      <td>-0.000501</td>\n",
       "      <td>0.000667</td>\n",
       "      <td>0.000096</td>\n",
       "      <td>-0.000891</td>\n",
       "    </tr>\n",
       "    <tr>\n",
       "      <th>3</th>\n",
       "      <td>0.000644</td>\n",
       "      <td>-0.000692</td>\n",
       "      <td>-0.001115</td>\n",
       "      <td>0.000500</td>\n",
       "      <td>0.001839</td>\n",
       "      <td>0.000566</td>\n",
       "      <td>-0.001064</td>\n",
       "      <td>0.000772</td>\n",
       "      <td>-0.001076</td>\n",
       "      <td>-0.000981</td>\n",
       "      <td>...</td>\n",
       "      <td>-0.000131</td>\n",
       "      <td>-0.000556</td>\n",
       "      <td>-0.000920</td>\n",
       "      <td>0.000296</td>\n",
       "      <td>0.000206</td>\n",
       "      <td>-0.000130</td>\n",
       "      <td>-0.000253</td>\n",
       "      <td>0.003255</td>\n",
       "      <td>0.001967</td>\n",
       "      <td>-0.001976</td>\n",
       "    </tr>\n",
       "    <tr>\n",
       "      <th>4</th>\n",
       "      <td>0.000232</td>\n",
       "      <td>0.000257</td>\n",
       "      <td>0.001437</td>\n",
       "      <td>-0.001730</td>\n",
       "      <td>0.001435</td>\n",
       "      <td>0.000666</td>\n",
       "      <td>0.000415</td>\n",
       "      <td>-0.001045</td>\n",
       "      <td>0.000475</td>\n",
       "      <td>0.001179</td>\n",
       "      <td>...</td>\n",
       "      <td>0.002133</td>\n",
       "      <td>-0.000916</td>\n",
       "      <td>-0.000177</td>\n",
       "      <td>-0.000981</td>\n",
       "      <td>0.001051</td>\n",
       "      <td>0.002363</td>\n",
       "      <td>-0.001141</td>\n",
       "      <td>-0.000020</td>\n",
       "      <td>0.000541</td>\n",
       "      <td>-0.000086</td>\n",
       "    </tr>\n",
       "  </tbody>\n",
       "</table>\n",
       "<p>5 rows × 300 columns</p>\n",
       "</div>"
      ],
      "text/plain": [
       "        0         1         2         3         4         5         6    \\\n",
       "0  0.000195 -0.001000 -0.003117  0.003060  0.000833 -0.003156 -0.001058   \n",
       "1  0.001425 -0.001791 -0.002250  0.000689 -0.000236 -0.000922  0.000034   \n",
       "2  0.000416 -0.001263  0.000026 -0.000234  0.002455 -0.000084 -0.000548   \n",
       "3  0.000644 -0.000692 -0.001115  0.000500  0.001839  0.000566 -0.001064   \n",
       "4  0.000232  0.000257  0.001437 -0.001730  0.001435  0.000666  0.000415   \n",
       "\n",
       "        7         8         9    ...       290       291       292       293  \\\n",
       "0 -0.000885 -0.000161 -0.000170  ... -0.003946 -0.001028 -0.000686 -0.001089   \n",
       "1  0.000467 -0.001196 -0.001662  ... -0.001138  0.000296 -0.001003  0.001583   \n",
       "2  0.000672  0.000584 -0.000515  ... -0.000313 -0.000419  0.001627  0.000263   \n",
       "3  0.000772 -0.001076 -0.000981  ... -0.000131 -0.000556 -0.000920  0.000296   \n",
       "4 -0.001045  0.000475  0.001179  ...  0.002133 -0.000916 -0.000177 -0.000981   \n",
       "\n",
       "        294       295       296       297       298       299  \n",
       "0  0.000268 -0.001069  0.000915  0.000490  0.001737 -0.000208  \n",
       "1 -0.001640 -0.000828  0.001336  0.000558  0.000995 -0.000333  \n",
       "2  0.001000  0.001881 -0.000501  0.000667  0.000096 -0.000891  \n",
       "3  0.000206 -0.000130 -0.000253  0.003255  0.001967 -0.001976  \n",
       "4  0.001051  0.002363 -0.001141 -0.000020  0.000541 -0.000086  \n",
       "\n",
       "[5 rows x 300 columns]"
      ]
     },
     "execution_count": 17,
     "metadata": {},
     "output_type": "execute_result"
    }
   ],
   "source": [
    "columns_for_vec = [i for i in range(EMBEDDING_DIM)]\n",
    "# vectors = pd.read_csv(f'/kaggle/input/trashh/vectors.csv', nrows=take_rows*number_of_takes, names=columns_for_vec, header=None)\n",
    "vectors = pd.read_csv(f'/kaggle/working/vectors.csv', nrows=take_rows*number_of_takes, names=columns_for_vec, header=None)\n",
    "text = pd.read_csv(f'/kaggle/input/some-topics/modified.csv', nrows=take_rows*number_of_takes)\n",
    "\n",
    "vectors.head()"
   ]
  },
  {
   "cell_type": "code",
   "execution_count": 18,
   "id": "a6b164a5",
   "metadata": {
    "execution": {
     "iopub.execute_input": "2023-07-08T14:39:56.197313Z",
     "iopub.status.busy": "2023-07-08T14:39:56.196990Z",
     "iopub.status.idle": "2023-07-08T14:39:56.834604Z",
     "shell.execute_reply": "2023-07-08T14:39:56.833690Z"
    },
    "papermill": {
     "duration": 0.796021,
     "end_time": "2023-07-08T14:39:56.836958",
     "exception": false,
     "start_time": "2023-07-08T14:39:56.040937",
     "status": "completed"
    },
    "tags": []
   },
   "outputs": [],
   "source": [
    "from sklearn.model_selection import train_test_split\n",
    "from catboost import CatBoostClassifier\n",
    "from sklearn.metrics import accuracy_score, confusion_matrix\n",
    "import matplotlib.pyplot as plt\n",
    "import seaborn as sn"
   ]
  },
  {
   "cell_type": "code",
   "execution_count": 19,
   "id": "86d428e2",
   "metadata": {
    "execution": {
     "iopub.execute_input": "2023-07-08T14:39:57.159347Z",
     "iopub.status.busy": "2023-07-08T14:39:57.158959Z",
     "iopub.status.idle": "2023-07-08T14:39:57.174433Z",
     "shell.execute_reply": "2023-07-08T14:39:57.173466Z"
    },
    "papermill": {
     "duration": 0.184284,
     "end_time": "2023-07-08T14:39:57.176527",
     "exception": false,
     "start_time": "2023-07-08T14:39:56.992243",
     "status": "completed"
    },
    "tags": []
   },
   "outputs": [],
   "source": [
    "X_train, X_test, y_train, y_test = train_test_split(vectors[columns_for_vec], text['label'], test_size=0.2)"
   ]
  },
  {
   "cell_type": "code",
   "execution_count": 20,
   "id": "ff3d6c06",
   "metadata": {
    "execution": {
     "iopub.execute_input": "2023-07-08T14:39:57.563200Z",
     "iopub.status.busy": "2023-07-08T14:39:57.562838Z",
     "iopub.status.idle": "2023-07-08T14:43:40.564059Z",
     "shell.execute_reply": "2023-07-08T14:43:40.563152Z"
    },
    "papermill": {
     "duration": 223.326697,
     "end_time": "2023-07-08T14:43:40.720985",
     "exception": false,
     "start_time": "2023-07-08T14:39:57.394288",
     "status": "completed"
    },
    "tags": []
   },
   "outputs": [
    {
     "data": {
      "text/plain": [
       "<catboost.core.CatBoostClassifier at 0x79347db82c80>"
      ]
     },
     "execution_count": 20,
     "metadata": {},
     "output_type": "execute_result"
    }
   ],
   "source": [
    "model = CatBoostClassifier(random_state=1)\n",
    "model.fit(X_train, y_train, verbose=0)"
   ]
  },
  {
   "cell_type": "code",
   "execution_count": 21,
   "id": "bca9dfb8",
   "metadata": {
    "execution": {
     "iopub.execute_input": "2023-07-08T14:43:41.033911Z",
     "iopub.status.busy": "2023-07-08T14:43:41.032881Z",
     "iopub.status.idle": "2023-07-08T14:43:41.505067Z",
     "shell.execute_reply": "2023-07-08T14:43:41.504192Z"
    },
    "papermill": {
     "duration": 0.630662,
     "end_time": "2023-07-08T14:43:41.507428",
     "exception": false,
     "start_time": "2023-07-08T14:43:40.876766",
     "status": "completed"
    },
    "tags": []
   },
   "outputs": [
    {
     "name": "stdout",
     "output_type": "stream",
     "text": [
      "acc:  0.655\n"
     ]
    },
    {
     "data": {
      "image/png": "[encoded data removed]",
      "text/plain": [
       "<Figure size 750x750 with 1 Axes>"
      ]
     },
     "metadata": {},
     "output_type": "display_data"
    }
   ],
   "source": [
    "preds = model.predict(X_test)\n",
    "\n",
    "print(\"acc: \", accuracy_score(y_test, preds))\n",
    "\n",
    "conf_matrix = confusion_matrix(y_true=y_test, y_pred=preds)\n",
    "\n",
    "fig, ax = plt.subplots(figsize=(7.5, 7.5))\n",
    "ax.matshow(conf_matrix, cmap=plt.cm.Blues, alpha=0.3)\n",
    "for i in range(conf_matrix.shape[0]):\n",
    "    for j in range(conf_matrix.shape[1]):\n",
    "        ax.text(x=j, y=i,s=conf_matrix[i, j], va='center', ha='center', size='xx-large')\n",
    " \n",
    "plt.xlabel('Predictions', fontsize=18)\n",
    "plt.ylabel('Actuals', fontsize=18)\n",
    "plt.title('Confusion Matrix', fontsize=18)\n",
    "plt.show()"
   ]
  }
 ],
 "metadata": {
  "kernelspec": {
   "display_name": "Python 3",
   "language": "python",
   "name": "python3"
  },
  "language_info": {
   "codemirror_mode": {
    "name": "ipython",
    "version": 3
   },
   "file_extension": ".py",
   "mimetype": "text/x-python",
   "name": "python",
   "nbconvert_exporter": "python",
   "pygments_lexer": "ipython3",
   "version": "3.10.10"
  },
  "papermill": {
   "default_parameters": {},
   "duration": 33735.645191,
   "end_time": "2023-07-08T14:43:44.549678",
   "environment_variables": {},
   "exception": null,
   "input_path": "__notebook__.ipynb",
   "output_path": "__notebook__.ipynb",
   "parameters": {},
   "start_time": "2023-07-08T05:21:28.904487",
   "version": "2.4.0"
  }
 },
 "nbformat": 4,
 "nbformat_minor": 5
}
