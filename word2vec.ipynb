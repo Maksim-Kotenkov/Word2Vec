{
 "cells": [
  {
   "cell_type": "code",
   "execution_count": 1,
   "id": "ab931bc1",
   "metadata": {
    "execution": {
     "iopub.execute_input": "2023-07-13T03:32:52.678487Z",
     "iopub.status.busy": "2023-07-13T03:32:52.677537Z",
     "iopub.status.idle": "2023-07-13T03:32:59.002663Z",
     "shell.execute_reply": "2023-07-13T03:32:59.000541Z"
    },
    "papermill": {
     "duration": 6.344634,
     "end_time": "2023-07-13T03:32:59.006646",
     "exception": false,
     "start_time": "2023-07-13T03:32:52.662012",
     "status": "completed"
    },
    "tags": []
   },
   "outputs": [
    {
     "name": "stdout",
     "output_type": "stream",
     "text": [
      "[nltk_data] Downloading package stopwords to /usr/share/nltk_data...\n",
      "[nltk_data]   Package stopwords is already up-to-date!\n"
     ]
    },
    {
     "data": {
      "text/plain": [
       "True"
      ]
     },
     "execution_count": 1,
     "metadata": {},
     "output_type": "execute_result"
    }
   ],
   "source": [
    "import pandas as pd\n",
    "pd.options.mode.chained_assignment = None\n",
    "import csv\n",
    "\n",
    "import numpy as np\n",
    "\n",
    "from tqdm import trange\n",
    "from statistics import mean \n",
    "\n",
    "import torch\n",
    "import torch.nn as nn\n",
    "from torch.utils.data import Dataset, DataLoader\n",
    "import torch.optim as optim\n",
    "import torch.nn.functional as F\n",
    "\n",
    "import nltk\n",
    "nltk.download(\"stopwords\")"
   ]
  },
  {
   "cell_type": "markdown",
   "id": "7d72ddc9",
   "metadata": {
    "papermill": {
     "duration": 0.010259,
     "end_time": "2023-07-13T03:32:59.027981",
     "exception": false,
     "start_time": "2023-07-13T03:32:59.017722",
     "status": "completed"
    },
    "tags": []
   },
   "source": [
    "# Предобработка документа"
   ]
  },
  {
   "cell_type": "code",
   "execution_count": 2,
   "id": "6a294871",
   "metadata": {
    "execution": {
     "iopub.execute_input": "2023-07-13T03:32:59.054495Z",
     "iopub.status.busy": "2023-07-13T03:32:59.053640Z",
     "iopub.status.idle": "2023-07-13T03:32:59.060444Z",
     "shell.execute_reply": "2023-07-13T03:32:59.058838Z"
    },
    "papermill": {
     "duration": 0.024141,
     "end_time": "2023-07-13T03:32:59.063140",
     "exception": false,
     "start_time": "2023-07-13T03:32:59.038999",
     "status": "completed"
    },
    "tags": []
   },
   "outputs": [],
   "source": [
    "# text = pd.read_csv('/kaggle/input/some-topics/inetensive_1.csv')\n",
    "# print(text.head())"
   ]
  },
  {
   "cell_type": "code",
   "execution_count": 3,
   "id": "56ae426b",
   "metadata": {
    "execution": {
     "iopub.execute_input": "2023-07-13T03:32:59.087084Z",
     "iopub.status.busy": "2023-07-13T03:32:59.085942Z",
     "iopub.status.idle": "2023-07-13T03:32:59.092876Z",
     "shell.execute_reply": "2023-07-13T03:32:59.091442Z"
    },
    "papermill": {
     "duration": 0.021541,
     "end_time": "2023-07-13T03:32:59.095489",
     "exception": false,
     "start_time": "2023-07-13T03:32:59.073948",
     "status": "completed"
    },
    "tags": []
   },
   "outputs": [],
   "source": [
    "# syntax = \".,?!;:-)(\\/#0123456789\"\n",
    "# stopwords = nltk.corpus.stopwords.words(\"english\")\n",
    "\n",
    "# print(text['text'].size)\n",
    "# text['edited'] = \"sometext\"\n",
    "# for i in trange(text['text'].size):\n",
    "#     text['edited'][i] = text['text'][i].lower()\n",
    "#     for j in syntax:\n",
    "#         text['edited'][i] = text['edited'][i].replace(j, \"\")\n",
    "#     text['edited'][i] = text['edited'][i].replace('  ', \" \")\n",
    "    \n",
    "#     text['edited'][i] = [word for word in text['edited'][i].split(' ') if word not in stopwords]"
   ]
  },
  {
   "cell_type": "code",
   "execution_count": 4,
   "id": "a5ce43f7",
   "metadata": {
    "execution": {
     "iopub.execute_input": "2023-07-13T03:32:59.119991Z",
     "iopub.status.busy": "2023-07-13T03:32:59.118427Z",
     "iopub.status.idle": "2023-07-13T03:32:59.124644Z",
     "shell.execute_reply": "2023-07-13T03:32:59.123349Z"
    },
    "papermill": {
     "duration": 0.021094,
     "end_time": "2023-07-13T03:32:59.127193",
     "exception": false,
     "start_time": "2023-07-13T03:32:59.106099",
     "status": "completed"
    },
    "tags": []
   },
   "outputs": [],
   "source": [
    "# text.to_csv(\"modified.csv\", index=False)"
   ]
  },
  {
   "cell_type": "markdown",
   "id": "58bb160e",
   "metadata": {
    "papermill": {
     "duration": 0.010098,
     "end_time": "2023-07-13T03:32:59.148003",
     "exception": false,
     "start_time": "2023-07-13T03:32:59.137905",
     "status": "completed"
    },
    "tags": []
   },
   "source": [
    "# Параметры"
   ]
  },
  {
   "cell_type": "code",
   "execution_count": 5,
   "id": "70ce7308",
   "metadata": {
    "execution": {
     "iopub.execute_input": "2023-07-13T03:32:59.171607Z",
     "iopub.status.busy": "2023-07-13T03:32:59.171170Z",
     "iopub.status.idle": "2023-07-13T03:32:59.210278Z",
     "shell.execute_reply": "2023-07-13T03:32:59.208933Z"
    },
    "papermill": {
     "duration": 0.05435,
     "end_time": "2023-07-13T03:32:59.212951",
     "exception": false,
     "start_time": "2023-07-13T03:32:59.158601",
     "status": "completed"
    },
    "tags": []
   },
   "outputs": [
    {
     "name": "stdout",
     "output_type": "stream",
     "text": [
      "cpu\n"
     ]
    }
   ],
   "source": [
    "# ALL PARAMETERS\n",
    "number_of_takes = 600\n",
    "take_rows = 20\n",
    "CONTEXT_SIZE = 2\n",
    "EMBEDDING_DIM = 300\n",
    "BS = 4000\n",
    "epochs = 5\n",
    "device = 'cuda' if torch.cuda.is_available() else 'cpu'\n",
    "\n",
    "text = pd.read_csv('/kaggle/input/some-topics/modified.csv', nrows =1)\n",
    "columns = text.columns\n",
    "print(device)\n",
    "\n",
    "PATH = '/kaggle/input/some-topics'"
   ]
  },
  {
   "cell_type": "markdown",
   "id": "6c8cff66",
   "metadata": {
    "papermill": {
     "duration": 0.010528,
     "end_time": "2023-07-13T03:32:59.234860",
     "exception": false,
     "start_time": "2023-07-13T03:32:59.224332",
     "status": "completed"
    },
    "tags": []
   },
   "source": [
    "# Определяем размерность векторного пространства"
   ]
  },
  {
   "cell_type": "code",
   "execution_count": 6,
   "id": "dd24032e",
   "metadata": {
    "execution": {
     "iopub.execute_input": "2023-07-13T03:32:59.258327Z",
     "iopub.status.busy": "2023-07-13T03:32:59.257862Z",
     "iopub.status.idle": "2023-07-13T03:32:59.264494Z",
     "shell.execute_reply": "2023-07-13T03:32:59.262972Z"
    },
    "papermill": {
     "duration": 0.021545,
     "end_time": "2023-07-13T03:32:59.267010",
     "exception": false,
     "start_time": "2023-07-13T03:32:59.245465",
     "status": "completed"
    },
    "tags": []
   },
   "outputs": [],
   "source": [
    "# null_vector = {} # вектор с размерностью алфавита\n",
    "\n",
    "# for fragment in trange(number_of_takes):\n",
    "#     text = pd.read_csv('/kaggle/input/some-topics/modified.csv', skiprows = fragment * take_rows, nrows = take_rows, names=columns)\n",
    "#     for i in range(take_rows):\n",
    "#         text['edited'][i] = text['edited'][i].replace('\\'', '').replace('\\\"', '').replace(']', '').replace('[', '').split(', ')\n",
    "#         for k in set(text['edited'][i]):\n",
    "#             null_vector[k] = 0;\n",
    "\n",
    "# print(\"Length of our vocabulary: \", len(null_vector))\n",
    "# # print(null_vector)"
   ]
  },
  {
   "cell_type": "markdown",
   "id": "05f65b86",
   "metadata": {
    "papermill": {
     "duration": 0.010611,
     "end_time": "2023-07-13T03:32:59.289112",
     "exception": false,
     "start_time": "2023-07-13T03:32:59.278501",
     "status": "completed"
    },
    "tags": []
   },
   "source": [
    "# Функция получение пар контекст/слово в one-hot-vector виде"
   ]
  },
  {
   "cell_type": "code",
   "execution_count": 7,
   "id": "301db1d5",
   "metadata": {
    "execution": {
     "iopub.execute_input": "2023-07-13T03:32:59.313080Z",
     "iopub.status.busy": "2023-07-13T03:32:59.312582Z",
     "iopub.status.idle": "2023-07-13T03:32:59.327740Z",
     "shell.execute_reply": "2023-07-13T03:32:59.326656Z"
    },
    "papermill": {
     "duration": 0.03035,
     "end_time": "2023-07-13T03:32:59.330379",
     "exception": false,
     "start_time": "2023-07-13T03:32:59.300029",
     "status": "completed"
    },
    "tags": []
   },
   "outputs": [],
   "source": [
    "def get_training_data(from_row, to_row):\n",
    "    text = pd.read_csv(f'{PATH}/modified.csv', skiprows=from_row, nrows=take_rows, names=columns)\n",
    "\n",
    "    context = [[]]*take_rows\n",
    "    for i in range(text['text'].size):\n",
    "        text['edited'][i] = text['edited'][i].replace('\\'', '').replace('\\\"', '').replace(']', '').replace('[', '').split(', ')\n",
    "        for k in range(CONTEXT_SIZE, len(text['edited'][i]) - CONTEXT_SIZE):\n",
    "            tup = []\n",
    "            for c in range(1, CONTEXT_SIZE+1):\n",
    "                tup.append(text['edited'][i][k-c])\n",
    "                tup.append(text['edited'][i][k+c])\n",
    "\n",
    "            context[i].append([tup,text['edited'][i][k]])\n",
    "    \n",
    "    vec_context = []\n",
    "    for i in range(len(context)):\n",
    "        for j in range(len(context[i])):\n",
    "            creating = [[], []]\n",
    "            copy = null_vector.copy()\n",
    "            copy[context[i][j][1]] = 1\n",
    "            creating[1] = np.uint8(list(copy.values()))\n",
    "\n",
    "            copy = null_vector.copy()\n",
    "            copy[context[i][j][0][0]] = 1\n",
    "            copy[context[i][j][0][1]] = 1\n",
    "            copy[context[i][j][0][2]] = 1\n",
    "            copy[context[i][j][0][3]] = 1\n",
    "            creating[0] = np.uint8(list(copy.values()))\n",
    "\n",
    "            vec_context.append(creating)\n",
    "    \n",
    "    return vec_context"
   ]
  },
  {
   "cell_type": "markdown",
   "id": "48b325f5",
   "metadata": {
    "papermill": {
     "duration": 0.010546,
     "end_time": "2023-07-13T03:32:59.351790",
     "exception": false,
     "start_time": "2023-07-13T03:32:59.341244",
     "status": "completed"
    },
    "tags": []
   },
   "source": [
    "# Функция дообучения"
   ]
  },
  {
   "cell_type": "code",
   "execution_count": 8,
   "id": "44fdf2f0",
   "metadata": {
    "execution": {
     "iopub.execute_input": "2023-07-13T03:32:59.376894Z",
     "iopub.status.busy": "2023-07-13T03:32:59.375287Z",
     "iopub.status.idle": "2023-07-13T03:32:59.386119Z",
     "shell.execute_reply": "2023-07-13T03:32:59.384903Z"
    },
    "papermill": {
     "duration": 0.026576,
     "end_time": "2023-07-13T03:32:59.389172",
     "exception": false,
     "start_time": "2023-07-13T03:32:59.362596",
     "status": "completed"
    },
    "tags": []
   },
   "outputs": [],
   "source": [
    "def continuous_training(model, optimizer, loss_function, vec_context, BS):\n",
    "    vec_context = np.array(vec_context)\n",
    "    total_loss = 0\n",
    "\n",
    "    num_batches = len(vec_context)//BS\n",
    "\n",
    "    for i in range(num_batches):\n",
    "        pairs = vec_context[i*BS:(i+1)*BS]\n",
    "        context_idxs = torch.tensor(pairs[:,0].astype(int), dtype=torch.float).to(device)\n",
    "\n",
    "        optimizer.zero_grad()\n",
    "        log_probs = model(context_idxs)\n",
    "\n",
    "        # print(log_probs.shape, torch.tensor(pairs[:,1].astype(int), dtype=torch.long).to(device).shape)\n",
    "\n",
    "        loss = loss_function(log_probs, torch.tensor(pairs[:,1].astype(int), dtype=torch.long).argmax(-1).to(device))\n",
    "\n",
    "        loss.backward()\n",
    "        optimizer.step()\n",
    "\n",
    "        total_loss += loss.item()\n",
    "    \n",
    "    return total_loss"
   ]
  },
  {
   "cell_type": "markdown",
   "id": "1f2ca821",
   "metadata": {
    "papermill": {
     "duration": 0.011043,
     "end_time": "2023-07-13T03:32:59.411512",
     "exception": false,
     "start_time": "2023-07-13T03:32:59.400469",
     "status": "completed"
    },
    "tags": []
   },
   "source": [
    "# Модель"
   ]
  },
  {
   "cell_type": "code",
   "execution_count": 9,
   "id": "69cd5c4c",
   "metadata": {
    "execution": {
     "iopub.execute_input": "2023-07-13T03:32:59.436040Z",
     "iopub.status.busy": "2023-07-13T03:32:59.435616Z",
     "iopub.status.idle": "2023-07-13T03:32:59.449218Z",
     "shell.execute_reply": "2023-07-13T03:32:59.448267Z"
    },
    "papermill": {
     "duration": 0.029365,
     "end_time": "2023-07-13T03:32:59.452053",
     "exception": false,
     "start_time": "2023-07-13T03:32:59.422688",
     "status": "completed"
    },
    "tags": []
   },
   "outputs": [],
   "source": [
    "class CBOWModeler(nn.Module):\n",
    "    def __init__(self, vocab_size, embedding_dim):\n",
    "        super(CBOWModeler, self).__init__()\n",
    "        self.linear1 = nn.Linear(vocab_size, embedding_dim)\n",
    "        self.linear2 = nn.Linear(embedding_dim, vocab_size)\n",
    "        \n",
    "    \n",
    "    def forward(self, inputs):\n",
    "        emb = self.linear1(inputs)\n",
    "        out_s_layer = self.linear2(emb)\n",
    "        \n",
    "        # print(out_s_layer.shape)\n",
    "        log_probs = F.log_softmax(out_s_layer, dim=0)\n",
    "        return log_probs\n",
    "    \n",
    "    \n",
    "    def predict(self, input, null_vector):\n",
    "        context_vec = null_vector.copy()\n",
    "        for word in input:\n",
    "            context_vec[word] = 1;\n",
    "        context_vec = list(context_vec.values())\n",
    "        \n",
    "        context_tensor = torch.tensor(context_vec, dtype=torch.float).to(device)\n",
    "        res = self.forward(context_tensor)\n",
    "        print(res.shape)\n",
    "        res_arg = torch.argmax(res).item()\n",
    "        \n",
    "        return list(null_vector.keys())[res_arg]\n",
    "    \n",
    "    \n",
    "    def write_embedding_to_file(self,filename):\n",
    "        for i in self.embeddings.parameters():\n",
    "            weights = i.cpu().data.numpy()\n",
    "        np.save(filename,weights)\n",
    "        \n",
    "    \n",
    "    def write_linear_to_file(self,filename):\n",
    "        for i in self.linear2.parameters():\n",
    "            weights = i.cpu().data.numpy()\n",
    "        np.save(filename,weights)\n"
   ]
  },
  {
   "cell_type": "markdown",
   "id": "30254b6b",
   "metadata": {
    "papermill": {
     "duration": 0.010805,
     "end_time": "2023-07-13T03:32:59.474278",
     "exception": false,
     "start_time": "2023-07-13T03:32:59.463473",
     "status": "completed"
    },
    "tags": []
   },
   "source": [
    "# Обучение на текстах по кускам"
   ]
  },
  {
   "cell_type": "code",
   "execution_count": 10,
   "id": "7c416dce",
   "metadata": {
    "execution": {
     "iopub.execute_input": "2023-07-13T03:32:59.499977Z",
     "iopub.status.busy": "2023-07-13T03:32:59.498508Z",
     "iopub.status.idle": "2023-07-13T03:33:04.818738Z",
     "shell.execute_reply": "2023-07-13T03:33:04.817199Z"
    },
    "papermill": {
     "duration": 5.337441,
     "end_time": "2023-07-13T03:33:04.822915",
     "exception": false,
     "start_time": "2023-07-13T03:32:59.485474",
     "status": "completed"
    },
    "tags": []
   },
   "outputs": [],
   "source": [
    "null_vector = pd.read_csv(f'{PATH}/alphabet_full_text.csv').to_dict(orient='records')[0]\n",
    "\n",
    "model = CBOWModeler(len(null_vector), EMBEDDING_DIM)\n",
    "\n",
    "model.load_state_dict(torch.load(f'{PATH}/model_full_text'))\n",
    "model = model.to(device)\n",
    "\n",
    "optimizer = optim.SGD(model.parameters(), lr=10**(-6))\n",
    "loss_function = nn.NLLLoss()"
   ]
  },
  {
   "cell_type": "code",
   "execution_count": 11,
   "id": "d7fb411a",
   "metadata": {
    "execution": {
     "iopub.execute_input": "2023-07-13T03:33:04.855370Z",
     "iopub.status.busy": "2023-07-13T03:33:04.854530Z",
     "iopub.status.idle": "2023-07-13T03:33:04.860308Z",
     "shell.execute_reply": "2023-07-13T03:33:04.859241Z"
    },
    "papermill": {
     "duration": 0.023221,
     "end_time": "2023-07-13T03:33:04.863213",
     "exception": false,
     "start_time": "2023-07-13T03:33:04.839992",
     "status": "completed"
    },
    "tags": []
   },
   "outputs": [],
   "source": [
    "# for ep in range(epochs):\n",
    "#     for i in trange(number_of_takes):\n",
    "#         vec_context = get_training_data(i*take_rows, (i+1)*take_rows)\n",
    "#         total_loss = continuous_training(model, optimizer, loss_function, vec_context, BS)\n",
    "    \n",
    "#     print(total_loss)\n",
    "#     torch.save(model.state_dict(), 'model')\n",
    "\n",
    "# for i in trange(400):\n",
    "# for i in trange(number_of_takes):\n",
    "#     try:\n",
    "#         vec_context = get_training_data(i*take_rows, (i+1)*take_rows)\n",
    "#         total_loss = continuous_training(model, optimizer, loss_function, vec_context, BS)\n",
    "#     except ValueError:\n",
    "#         continue\n",
    "\n",
    "# print(total_loss)"
   ]
  },
  {
   "cell_type": "markdown",
   "id": "b39ab4f4",
   "metadata": {
    "papermill": {
     "duration": 0.012431,
     "end_time": "2023-07-13T03:33:04.891066",
     "exception": false,
     "start_time": "2023-07-13T03:33:04.878635",
     "status": "completed"
    },
    "tags": []
   },
   "source": [
    "# Сохраняем модель "
   ]
  },
  {
   "cell_type": "code",
   "execution_count": 12,
   "id": "33b1cf2b",
   "metadata": {
    "execution": {
     "iopub.execute_input": "2023-07-13T03:33:04.917380Z",
     "iopub.status.busy": "2023-07-13T03:33:04.916739Z",
     "iopub.status.idle": "2023-07-13T03:33:05.057533Z",
     "shell.execute_reply": "2023-07-13T03:33:05.056333Z"
    },
    "papermill": {
     "duration": 0.158677,
     "end_time": "2023-07-13T03:33:05.061407",
     "exception": false,
     "start_time": "2023-07-13T03:33:04.902730",
     "status": "completed"
    },
    "tags": []
   },
   "outputs": [],
   "source": [
    "# torch.save(model.state_dict(), 'model')\n",
    "torch.save(model.state_dict(), 'model_full_text')\n",
    "\n",
    "with open('alphabet_full_text.csv', 'w') as f:\n",
    "    w = csv.DictWriter(f, null_vector.keys())\n",
    "    w.writeheader()\n",
    "    w.writerow(null_vector)"
   ]
  },
  {
   "cell_type": "markdown",
   "id": "fab2b0c0",
   "metadata": {
    "papermill": {
     "duration": 0.011425,
     "end_time": "2023-07-13T03:33:05.089779",
     "exception": false,
     "start_time": "2023-07-13T03:33:05.078354",
     "status": "completed"
    },
    "tags": []
   },
   "source": [
    "# Загружаем, если необходимо"
   ]
  },
  {
   "cell_type": "code",
   "execution_count": 13,
   "id": "b4e58f5b",
   "metadata": {
    "execution": {
     "iopub.execute_input": "2023-07-13T03:33:05.114954Z",
     "iopub.status.busy": "2023-07-13T03:33:05.114404Z",
     "iopub.status.idle": "2023-07-13T03:33:05.120136Z",
     "shell.execute_reply": "2023-07-13T03:33:05.118750Z"
    },
    "papermill": {
     "duration": 0.021825,
     "end_time": "2023-07-13T03:33:05.122773",
     "exception": false,
     "start_time": "2023-07-13T03:33:05.100948",
     "status": "completed"
    },
    "tags": []
   },
   "outputs": [],
   "source": [
    "# null_vector = pd.read_csv(f'{PATH}/alphabet.csv').to_dict(orient='records')[0]\n",
    "# # null_vector\n",
    "\n",
    "# model = CBOWModeler(len(null_vector), EMBEDDING_DIM)\n",
    "# model.load_state_dict(torch.load(f'{PATH}/model'))\n",
    "# model = model.to(device)"
   ]
  },
  {
   "cell_type": "markdown",
   "id": "2b85f37b",
   "metadata": {
    "papermill": {
     "duration": 0.011064,
     "end_time": "2023-07-13T03:33:05.145096",
     "exception": false,
     "start_time": "2023-07-13T03:33:05.134032",
     "status": "completed"
    },
    "tags": []
   },
   "source": [
    "# Тестируем"
   ]
  },
  {
   "cell_type": "code",
   "execution_count": 14,
   "id": "46b50ef6",
   "metadata": {
    "execution": {
     "iopub.execute_input": "2023-07-13T03:33:05.170422Z",
     "iopub.status.busy": "2023-07-13T03:33:05.169896Z",
     "iopub.status.idle": "2023-07-13T03:33:05.176918Z",
     "shell.execute_reply": "2023-07-13T03:33:05.175585Z"
    },
    "papermill": {
     "duration": 0.022647,
     "end_time": "2023-07-13T03:33:05.179095",
     "exception": false,
     "start_time": "2023-07-13T03:33:05.156448",
     "status": "completed"
    },
    "tags": []
   },
   "outputs": [],
   "source": [
    "# test 1\n",
    "# inputs = ['black','bears','meat', 'strong']\n",
    "# res: southeastern\n",
    "\n",
    "# test 2\n",
    "# inputs = ['company','need','successful', 'product']\n",
    "# res: estimates\n",
    "\n",
    "# test 3 on prev version\n",
    "# ...black huge _ eat black...\n",
    "# inputs = ['black','huge','eat', 'black']\n",
    "# res: jobless\n",
    "\n",
    "# test 3\n",
    "inputs = ['news','paper','good', 'news']\n",
    "# res: remember\n",
    "\n",
    "# test 4\n",
    "# inputs = ['young','boy','good', 'job']\n",
    "# res: invoices\n",
    "\n",
    "# test 5\n",
    "# inputs = ['senior','developer','good', 'job']\n",
    "# res: creates\n",
    "\n",
    "# test 6\n",
    "# inputs = ['senior','developer','work', 'program']\n",
    "# res: creates\n",
    "\n",
    "\n",
    "# pred = model.predict(inputs, null_vector)\n",
    "# print(pred)"
   ]
  },
  {
   "cell_type": "markdown",
   "id": "48d44e32",
   "metadata": {
    "papermill": {
     "duration": 0.013429,
     "end_time": "2023-07-13T03:33:05.203633",
     "exception": false,
     "start_time": "2023-07-13T03:33:05.190204",
     "status": "completed"
    },
    "tags": []
   },
   "source": [
    "# Параметры обученной модели"
   ]
  },
  {
   "cell_type": "code",
   "execution_count": 15,
   "id": "54d1d251",
   "metadata": {
    "execution": {
     "iopub.execute_input": "2023-07-13T03:33:05.228771Z",
     "iopub.status.busy": "2023-07-13T03:33:05.228209Z",
     "iopub.status.idle": "2023-07-13T03:33:05.245193Z",
     "shell.execute_reply": "2023-07-13T03:33:05.243831Z"
    },
    "papermill": {
     "duration": 0.032856,
     "end_time": "2023-07-13T03:33:05.248047",
     "exception": false,
     "start_time": "2023-07-13T03:33:05.215191",
     "status": "completed"
    },
    "tags": []
   },
   "outputs": [
    {
     "data": {
      "text/plain": [
       "array([[-0.00431468, -0.00320932,  0.00465732, ...,  0.00380971,\n",
       "        -0.00026073, -0.00194828],\n",
       "       [-0.00453728, -0.00333661,  0.00312837, ..., -0.00042642,\n",
       "         0.00166083, -0.00464977],\n",
       "       [-0.00583699, -0.00113942,  0.00037253, ..., -0.00434522,\n",
       "        -0.00557808, -0.00206279],\n",
       "       ...,\n",
       "       [ 0.0022678 , -0.00596951,  0.00540414, ...,  0.00199871,\n",
       "        -0.00552356, -0.00066609],\n",
       "       [-0.00573751,  0.00306093,  0.00591892, ..., -0.00103642,\n",
       "        -0.00013632,  0.0038618 ],\n",
       "       [ 0.002145  ,  0.00564019,  0.00222611, ...,  0.00291977,\n",
       "        -0.00187897, -0.00042171]], dtype=float32)"
      ]
     },
     "execution_count": 15,
     "metadata": {},
     "output_type": "execute_result"
    }
   ],
   "source": [
    "emb_matrix = [i for i in model.linear1.parameters()][0]\n",
    "\n",
    "emb_matrix = emb_matrix.cpu().detach().numpy()\n",
    "emb_matrix"
   ]
  },
  {
   "cell_type": "markdown",
   "id": "d8f4963b",
   "metadata": {
    "papermill": {
     "duration": 0.011545,
     "end_time": "2023-07-13T03:33:05.275509",
     "exception": false,
     "start_time": "2023-07-13T03:33:05.263964",
     "status": "completed"
    },
    "tags": []
   },
   "source": [
    "# Высчитываем векторные представления текстов и сохраняем"
   ]
  },
  {
   "cell_type": "code",
   "execution_count": 16,
   "id": "f0deef07",
   "metadata": {
    "execution": {
     "iopub.execute_input": "2023-07-13T03:33:05.300147Z",
     "iopub.status.busy": "2023-07-13T03:33:05.299676Z",
     "iopub.status.idle": "2023-07-13T03:33:05.306664Z",
     "shell.execute_reply": "2023-07-13T03:33:05.305418Z"
    },
    "papermill": {
     "duration": 0.023161,
     "end_time": "2023-07-13T03:33:05.309870",
     "exception": false,
     "start_time": "2023-07-13T03:33:05.286709",
     "status": "completed"
    },
    "tags": []
   },
   "outputs": [],
   "source": [
    "def word2vec(inp, null_vector, emb_matrix):\n",
    "    word = null_vector.copy()\n",
    "    if (inp in word.keys()): word[inp] = 1\n",
    "    word = np.array(list(word.values()))\n",
    "\n",
    "    word2vec = np.matmul(emb_matrix, word)\n",
    "    return word2vec"
   ]
  },
  {
   "cell_type": "code",
   "execution_count": 17,
   "id": "c42a6525",
   "metadata": {
    "execution": {
     "iopub.execute_input": "2023-07-13T03:33:05.334631Z",
     "iopub.status.busy": "2023-07-13T03:33:05.334160Z",
     "iopub.status.idle": "2023-07-13T08:18:53.509511Z",
     "shell.execute_reply": "2023-07-13T08:18:53.508009Z"
    },
    "papermill": {
     "duration": 17148.195439,
     "end_time": "2023-07-13T08:18:53.516801",
     "exception": false,
     "start_time": "2023-07-13T03:33:05.321362",
     "status": "completed"
    },
    "tags": []
   },
   "outputs": [
    {
     "name": "stdout",
     "output_type": "stream",
     "text": [
      "1\n"
     ]
    },
    {
     "name": "stderr",
     "output_type": "stream",
     "text": [
      "100%|██████████| 12000/12000 [4:45:47<00:00,  1.43s/it]\n"
     ]
    }
   ],
   "source": [
    "print(len(text['edited']))\n",
    "\n",
    "text = pd.read_csv(f'{PATH}/modified.csv', nrows=number_of_takes*take_rows)\n",
    "with open(f'vectors_full_text.csv', 'w', newline='') as f_object:\n",
    "    writer_object = csv.writer(f_object)\n",
    "    \n",
    "    for row in trange(0, number_of_takes*take_rows):\n",
    "        count_words = 0\n",
    "        text2vec = np.array([float(0)]*EMBEDDING_DIM)\n",
    "        text['edited'][row] = text['edited'][row].replace('\\'', '').replace('\\\"', '').replace(']', '').replace('[', '').split(', ')\n",
    "        for word in text['edited'][row]:\n",
    "            count_words += 1\n",
    "            text2vec = np.add(text2vec, word2vec(word, null_vector, emb_matrix))\n",
    "        \n",
    "        text2vec = [i/count_words for i in text2vec]\n",
    "        \n",
    "        list_data = list(text2vec)\n",
    "        list_data.insert(0, row)\n",
    "        writer_object.writerow(list_data)\n",
    "    \n",
    "    f_object.close()"
   ]
  },
  {
   "cell_type": "markdown",
   "id": "ca6e249a",
   "metadata": {
    "papermill": {
     "duration": 1.285667,
     "end_time": "2023-07-13T08:18:55.973891",
     "exception": false,
     "start_time": "2023-07-13T08:18:54.688224",
     "status": "completed"
    },
    "tags": []
   },
   "source": [
    "# Тестируем"
   ]
  },
  {
   "cell_type": "code",
   "execution_count": 18,
   "id": "e995199d",
   "metadata": {
    "execution": {
     "iopub.execute_input": "2023-07-13T08:18:58.170571Z",
     "iopub.status.busy": "2023-07-13T08:18:58.170050Z",
     "iopub.status.idle": "2023-07-13T08:18:59.686412Z",
     "shell.execute_reply": "2023-07-13T08:18:59.685301Z"
    },
    "papermill": {
     "duration": 2.621963,
     "end_time": "2023-07-13T08:18:59.689339",
     "exception": false,
     "start_time": "2023-07-13T08:18:57.067376",
     "status": "completed"
    },
    "tags": []
   },
   "outputs": [
    {
     "data": {
      "text/html": [
       "<div>\n",
       "<style scoped>\n",
       "    .dataframe tbody tr th:only-of-type {\n",
       "        vertical-align: middle;\n",
       "    }\n",
       "\n",
       "    .dataframe tbody tr th {\n",
       "        vertical-align: top;\n",
       "    }\n",
       "\n",
       "    .dataframe thead th {\n",
       "        text-align: right;\n",
       "    }\n",
       "</style>\n",
       "<table border=\"1\" class=\"dataframe\">\n",
       "  <thead>\n",
       "    <tr style=\"text-align: right;\">\n",
       "      <th></th>\n",
       "      <th>0</th>\n",
       "      <th>1</th>\n",
       "      <th>2</th>\n",
       "      <th>3</th>\n",
       "      <th>4</th>\n",
       "      <th>5</th>\n",
       "      <th>6</th>\n",
       "      <th>7</th>\n",
       "      <th>8</th>\n",
       "      <th>9</th>\n",
       "      <th>...</th>\n",
       "      <th>290</th>\n",
       "      <th>291</th>\n",
       "      <th>292</th>\n",
       "      <th>293</th>\n",
       "      <th>294</th>\n",
       "      <th>295</th>\n",
       "      <th>296</th>\n",
       "      <th>297</th>\n",
       "      <th>298</th>\n",
       "      <th>299</th>\n",
       "    </tr>\n",
       "  </thead>\n",
       "  <tbody>\n",
       "    <tr>\n",
       "      <th>0</th>\n",
       "      <td>0.000946</td>\n",
       "      <td>-0.000528</td>\n",
       "      <td>0.000762</td>\n",
       "      <td>0.001076</td>\n",
       "      <td>-0.000152</td>\n",
       "      <td>-0.001263</td>\n",
       "      <td>0.000881</td>\n",
       "      <td>-0.001169</td>\n",
       "      <td>0.001387</td>\n",
       "      <td>-0.000014</td>\n",
       "      <td>...</td>\n",
       "      <td>0.000607</td>\n",
       "      <td>-0.000123</td>\n",
       "      <td>0.000201</td>\n",
       "      <td>0.001638</td>\n",
       "      <td>-0.001183</td>\n",
       "      <td>0.000439</td>\n",
       "      <td>0.001002</td>\n",
       "      <td>0.000096</td>\n",
       "      <td>0.000254</td>\n",
       "      <td>-0.000069</td>\n",
       "    </tr>\n",
       "    <tr>\n",
       "      <th>1</th>\n",
       "      <td>-0.000398</td>\n",
       "      <td>-0.000569</td>\n",
       "      <td>0.001447</td>\n",
       "      <td>0.000275</td>\n",
       "      <td>0.000591</td>\n",
       "      <td>-0.000276</td>\n",
       "      <td>0.000240</td>\n",
       "      <td>0.001339</td>\n",
       "      <td>-0.000170</td>\n",
       "      <td>0.000028</td>\n",
       "      <td>...</td>\n",
       "      <td>-0.000419</td>\n",
       "      <td>-0.000868</td>\n",
       "      <td>-0.000748</td>\n",
       "      <td>-0.000393</td>\n",
       "      <td>-0.000534</td>\n",
       "      <td>0.000680</td>\n",
       "      <td>0.000814</td>\n",
       "      <td>-0.000417</td>\n",
       "      <td>0.001156</td>\n",
       "      <td>-0.000550</td>\n",
       "    </tr>\n",
       "    <tr>\n",
       "      <th>2</th>\n",
       "      <td>-0.000168</td>\n",
       "      <td>-0.001123</td>\n",
       "      <td>0.000794</td>\n",
       "      <td>0.000549</td>\n",
       "      <td>-0.000876</td>\n",
       "      <td>0.000635</td>\n",
       "      <td>0.001780</td>\n",
       "      <td>0.000192</td>\n",
       "      <td>0.000224</td>\n",
       "      <td>0.001738</td>\n",
       "      <td>...</td>\n",
       "      <td>0.000385</td>\n",
       "      <td>-0.000657</td>\n",
       "      <td>-0.000082</td>\n",
       "      <td>0.000892</td>\n",
       "      <td>-0.000647</td>\n",
       "      <td>-0.000141</td>\n",
       "      <td>0.001401</td>\n",
       "      <td>-0.000028</td>\n",
       "      <td>0.000079</td>\n",
       "      <td>-0.000124</td>\n",
       "    </tr>\n",
       "    <tr>\n",
       "      <th>3</th>\n",
       "      <td>-0.000939</td>\n",
       "      <td>-0.001608</td>\n",
       "      <td>0.000853</td>\n",
       "      <td>0.000302</td>\n",
       "      <td>0.000222</td>\n",
       "      <td>-0.000926</td>\n",
       "      <td>0.000906</td>\n",
       "      <td>-0.000135</td>\n",
       "      <td>-0.001136</td>\n",
       "      <td>0.000160</td>\n",
       "      <td>...</td>\n",
       "      <td>-0.002400</td>\n",
       "      <td>0.000740</td>\n",
       "      <td>0.001178</td>\n",
       "      <td>-0.000282</td>\n",
       "      <td>0.001018</td>\n",
       "      <td>-0.002080</td>\n",
       "      <td>-0.001042</td>\n",
       "      <td>-0.000755</td>\n",
       "      <td>-0.001020</td>\n",
       "      <td>-0.000949</td>\n",
       "    </tr>\n",
       "    <tr>\n",
       "      <th>4</th>\n",
       "      <td>0.001194</td>\n",
       "      <td>0.000517</td>\n",
       "      <td>0.001277</td>\n",
       "      <td>-0.000057</td>\n",
       "      <td>0.000031</td>\n",
       "      <td>-0.001014</td>\n",
       "      <td>0.000775</td>\n",
       "      <td>0.000824</td>\n",
       "      <td>-0.000571</td>\n",
       "      <td>0.001056</td>\n",
       "      <td>...</td>\n",
       "      <td>0.000095</td>\n",
       "      <td>-0.000719</td>\n",
       "      <td>-0.000849</td>\n",
       "      <td>0.000459</td>\n",
       "      <td>0.000594</td>\n",
       "      <td>-0.001342</td>\n",
       "      <td>0.001172</td>\n",
       "      <td>0.001214</td>\n",
       "      <td>0.000140</td>\n",
       "      <td>0.000247</td>\n",
       "    </tr>\n",
       "  </tbody>\n",
       "</table>\n",
       "<p>5 rows × 300 columns</p>\n",
       "</div>"
      ],
      "text/plain": [
       "        0         1         2         3         4         5         6    \\\n",
       "0  0.000946 -0.000528  0.000762  0.001076 -0.000152 -0.001263  0.000881   \n",
       "1 -0.000398 -0.000569  0.001447  0.000275  0.000591 -0.000276  0.000240   \n",
       "2 -0.000168 -0.001123  0.000794  0.000549 -0.000876  0.000635  0.001780   \n",
       "3 -0.000939 -0.001608  0.000853  0.000302  0.000222 -0.000926  0.000906   \n",
       "4  0.001194  0.000517  0.001277 -0.000057  0.000031 -0.001014  0.000775   \n",
       "\n",
       "        7         8         9    ...       290       291       292       293  \\\n",
       "0 -0.001169  0.001387 -0.000014  ...  0.000607 -0.000123  0.000201  0.001638   \n",
       "1  0.001339 -0.000170  0.000028  ... -0.000419 -0.000868 -0.000748 -0.000393   \n",
       "2  0.000192  0.000224  0.001738  ...  0.000385 -0.000657 -0.000082  0.000892   \n",
       "3 -0.000135 -0.001136  0.000160  ... -0.002400  0.000740  0.001178 -0.000282   \n",
       "4  0.000824 -0.000571  0.001056  ...  0.000095 -0.000719 -0.000849  0.000459   \n",
       "\n",
       "        294       295       296       297       298       299  \n",
       "0 -0.001183  0.000439  0.001002  0.000096  0.000254 -0.000069  \n",
       "1 -0.000534  0.000680  0.000814 -0.000417  0.001156 -0.000550  \n",
       "2 -0.000647 -0.000141  0.001401 -0.000028  0.000079 -0.000124  \n",
       "3  0.001018 -0.002080 -0.001042 -0.000755 -0.001020 -0.000949  \n",
       "4  0.000594 -0.001342  0.001172  0.001214  0.000140  0.000247  \n",
       "\n",
       "[5 rows x 300 columns]"
      ]
     },
     "execution_count": 18,
     "metadata": {},
     "output_type": "execute_result"
    }
   ],
   "source": [
    "columns_for_vec = [i for i in range(EMBEDDING_DIM)]\n",
    "# vectors = pd.read_csv(f'/kaggle/input/some-topics/vectors_full_text.csv', nrows=take_rows*number_of_takes, names=columns_for_vec, header=None)\n",
    "vectors = pd.read_csv(f'/kaggle/working/vectors_full_text.csv', nrows=take_rows*number_of_takes, names=columns_for_vec, header=None)\n",
    "text = pd.read_csv(f'/kaggle/input/some-topics/modified.csv', nrows=take_rows*number_of_takes)\n",
    "\n",
    "vectors.head()"
   ]
  },
  {
   "cell_type": "code",
   "execution_count": 19,
   "id": "f21d7687",
   "metadata": {
    "execution": {
     "iopub.execute_input": "2023-07-13T08:19:02.059829Z",
     "iopub.status.busy": "2023-07-13T08:19:02.059385Z",
     "iopub.status.idle": "2023-07-13T08:19:02.810826Z",
     "shell.execute_reply": "2023-07-13T08:19:02.809275Z"
    },
    "papermill": {
     "duration": 2.031871,
     "end_time": "2023-07-13T08:19:02.814066",
     "exception": false,
     "start_time": "2023-07-13T08:19:00.782195",
     "status": "completed"
    },
    "tags": []
   },
   "outputs": [],
   "source": [
    "from sklearn.model_selection import train_test_split\n",
    "from catboost import CatBoostClassifier\n",
    "from sklearn.metrics import accuracy_score, confusion_matrix\n",
    "import matplotlib.pyplot as plt\n",
    "import seaborn as sn"
   ]
  },
  {
   "cell_type": "code",
   "execution_count": 20,
   "id": "9397914c",
   "metadata": {
    "execution": {
     "iopub.execute_input": "2023-07-13T08:19:05.104957Z",
     "iopub.status.busy": "2023-07-13T08:19:05.104475Z",
     "iopub.status.idle": "2023-07-13T08:19:05.150176Z",
     "shell.execute_reply": "2023-07-13T08:19:05.148999Z"
    },
    "papermill": {
     "duration": 1.19476,
     "end_time": "2023-07-13T08:19:05.152820",
     "exception": false,
     "start_time": "2023-07-13T08:19:03.958060",
     "status": "completed"
    },
    "tags": []
   },
   "outputs": [],
   "source": [
    "X_train, X_test, y_train, y_test = train_test_split(vectors[columns_for_vec], text['label'], test_size=0.2, random_state = 0)"
   ]
  },
  {
   "cell_type": "code",
   "execution_count": 21,
   "id": "1730fe26",
   "metadata": {
    "execution": {
     "iopub.execute_input": "2023-07-13T08:19:07.537869Z",
     "iopub.status.busy": "2023-07-13T08:19:07.536566Z",
     "iopub.status.idle": "2023-07-13T08:21:50.660111Z",
     "shell.execute_reply": "2023-07-13T08:21:50.659035Z"
    },
    "papermill": {
     "duration": 165.333476,
     "end_time": "2023-07-13T08:21:51.763956",
     "exception": false,
     "start_time": "2023-07-13T08:19:06.430480",
     "status": "completed"
    },
    "tags": []
   },
   "outputs": [
    {
     "data": {
      "text/plain": [
       "<catboost.core.CatBoostClassifier at 0x79c463bf4eb0>"
      ]
     },
     "execution_count": 21,
     "metadata": {},
     "output_type": "execute_result"
    }
   ],
   "source": [
    "model = CatBoostClassifier(random_state=0)\n",
    "model.fit(X_train, y_train, verbose=0)"
   ]
  },
  {
   "cell_type": "code",
   "execution_count": 22,
   "id": "28dbdd3f",
   "metadata": {
    "execution": {
     "iopub.execute_input": "2023-07-13T08:21:54.173399Z",
     "iopub.status.busy": "2023-07-13T08:21:54.171428Z",
     "iopub.status.idle": "2023-07-13T08:21:54.612460Z",
     "shell.execute_reply": "2023-07-13T08:21:54.611311Z"
    },
    "papermill": {
     "duration": 1.562688,
     "end_time": "2023-07-13T08:21:54.617155",
     "exception": false,
     "start_time": "2023-07-13T08:21:53.054467",
     "status": "completed"
    },
    "tags": []
   },
   "outputs": [
    {
     "name": "stdout",
     "output_type": "stream",
     "text": [
      "acc:  0.7129166666666666\n"
     ]
    },
    {
     "data": {
      "image/png": "[encoded data removed]",
      "text/plain": [
       "<Figure size 750x750 with 1 Axes>"
      ]
     },
     "metadata": {},
     "output_type": "display_data"
    }
   ],
   "source": [
    "preds = model.predict(X_test)\n",
    "\n",
    "print(\"acc: \", accuracy_score(y_test, preds))\n",
    "\n",
    "conf_matrix = confusion_matrix(y_true=y_test, y_pred=preds)\n",
    "\n",
    "fig, ax = plt.subplots(figsize=(7.5, 7.5))\n",
    "ax.matshow(conf_matrix, cmap=plt.cm.Blues, alpha=0.3)\n",
    "for i in range(conf_matrix.shape[0]):\n",
    "    for j in range(conf_matrix.shape[1]):\n",
    "        ax.text(x=j, y=i,s=conf_matrix[i, j], va='center', ha='center', size='xx-large')\n",
    " \n",
    "plt.xlabel('Predictions', fontsize=18)\n",
    "plt.ylabel('Actuals', fontsize=18)\n",
    "plt.title('Confusion Matrix', fontsize=18)\n",
    "plt.show()"
   ]
  }
 ],
 "metadata": {
  "kernelspec": {
   "display_name": "Python 3",
   "language": "python",
   "name": "python3"
  },
  "language_info": {
   "codemirror_mode": {
    "name": "ipython",
    "version": 3
   },
   "file_extension": ".py",
   "mimetype": "text/x-python",
   "name": "python",
   "nbconvert_exporter": "python",
   "pygments_lexer": "ipython3",
   "version": "3.10.10"
  },
  "papermill": {
   "default_parameters": {},
   "duration": 17359.758492,
   "end_time": "2023-07-13T08:21:57.789182",
   "environment_variables": {},
   "exception": null,
   "input_path": "__notebook__.ipynb",
   "output_path": "__notebook__.ipynb",
   "parameters": {},
   "start_time": "2023-07-13T03:32:38.030690",
   "version": "2.4.0"
  }
 },
 "nbformat": 4,
 "nbformat_minor": 5
}
